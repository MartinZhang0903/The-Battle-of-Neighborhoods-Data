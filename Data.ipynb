{
  "nbformat": 4,
  "nbformat_minor": 0,
  "metadata": {
    "colab": {
      "name": "Data.ipynb",
      "provenance": []
    },
    "kernelspec": {
      "name": "python3",
      "display_name": "Python 3"
    }
  },
  "cells": [
    {
      "cell_type": "markdown",
      "metadata": {
        "id": "GiG0i016PG8I"
      },
      "source": [
        "# **Data:**\n",
        "\n",
        "According to the definition of our problem, the factors influencing our decision include:\n",
        "\n",
        "1. number of existing restaurants in the neighborhood (any type of restaurant)\n",
        "\n",
        "2. number of and distance to Italian restaurants in the neighborhood, if any\n",
        "\n",
        "3. distance of neighborhood from city center\n",
        "\n",
        "4. number of school in the neighborhood\n",
        "\n",
        "We decided to use a grid of regular intervals centered around the city center to define our community.\n",
        "\n",
        "The following data sources will need to extract/generate the required data:\n",
        "\n",
        "1. centers of candidate areas will be generated algorithmically and approximate addresses of centers of those areas will be obtained using Google Maps API reverse geocoding\n",
        "\n",
        "2. number of restaurants and their type and location in every neighborhood will be obtained using Foursquare API\n",
        "3. number of schools and their type and location in every neighborhood will be obtained using Foursquare API\n",
        "4. coordinate of New York center will be obtained using MapBox API of well known New York Queens location\n",
        "\n"
      ]
    }
  ]
}